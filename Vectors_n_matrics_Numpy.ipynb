{
 "cells": [
  {
   "cell_type": "code",
   "execution_count": 1,
   "metadata": {},
   "outputs": [],
   "source": [
    "import numpy as np"
   ]
  },
  {
   "cell_type": "code",
   "execution_count": 3,
   "metadata": {},
   "outputs": [
    {
     "name": "stdout",
     "output_type": "stream",
     "text": [
      "[[  1.75692602  -3.15027639  14.50870495 ... -19.56240508  -5.91825965\n",
      "    4.19318906]\n",
      " [  8.46158466  -0.56825974   2.27013027 ...  -3.56815872  -5.06744895\n",
      "    1.48171476]\n",
      " [  1.52229658 -24.79935921   2.28616588 ...   5.08031408  -5.57376712\n",
      "    7.40397314]\n",
      " ...\n",
      " [  2.38318013  13.70193014   9.68697591 ...  -5.27053533  -5.01257296\n",
      "   -7.12304517]\n",
      " [-12.49919901  -1.88307529   0.41998969 ...  -9.77796222 -20.1166868\n",
      "    1.42316761]\n",
      " [ -5.45615592   7.70728102   6.90392859 ...  -5.15268426  -6.12925544\n",
      "   -3.08267877]]\n"
     ]
    }
   ],
   "source": [
    "X = np.random.normal(loc=1, scale=10, size=(1000, 50))\n",
    "print (X)"
   ]
  },
  {
   "cell_type": "markdown",
   "metadata": {},
   "source": [
    "Первый параметр — матрица, для которой производятся вычисления. Также полезным будет параметр axis, который указывает, по какому измерению вычисляются среднее и стандартное отклонение (если axis=0, то по столбцам, если axis=1, то по строкам; если его не указывать, то данные величины будут вычислены по всей матрице)."
   ]
  },
  {
   "cell_type": "code",
   "execution_count": 6,
   "metadata": {},
   "outputs": [
    {
     "name": "stdout",
     "output_type": "stream",
     "text": [
      "[[ 0.11120289 -0.40960693  1.38417218 ... -2.18583832 -0.67705879\n",
      "   0.39158939]\n",
      " [ 0.79890871 -0.15663378  0.17265424 ... -0.50207692 -0.59067196\n",
      "   0.11022844]\n",
      " [ 0.08713663 -2.53067638  0.17424164 ...  0.40837326 -0.64208084\n",
      "   0.7247621 ]\n",
      " ...\n",
      " [ 0.17543861  1.24148845  0.90686078 ... -0.68129112 -0.58510014\n",
      "  -0.78265975]\n",
      " [-1.35106696 -0.28545287 -0.01049441 ... -1.15580122 -2.11869223\n",
      "   0.10415319]\n",
      " [-0.62865259  0.65416254  0.63136205 ... -0.66888459 -0.69848219\n",
      "  -0.36340396]]\n"
     ]
    }
   ],
   "source": [
    "m = np.mean(X, axis=0)\n",
    "std = np.std(X, axis=0)\n",
    "X_norm = ((X - m)  / std)\n",
    "print (X_norm)"
   ]
  },
  {
   "cell_type": "code",
   "execution_count": 9,
   "metadata": {},
   "outputs": [
    {
     "name": "stdout",
     "output_type": "stream",
     "text": [
      "(array([1, 4, 5], dtype=int64),)\n"
     ]
    }
   ],
   "source": [
    "Z = np.array([[4, 5, 0], \n",
    "             [1, 9, 3],              \n",
    "             [5, 1, 1],\n",
    "             [3, 3, 3], \n",
    "             [9, 9, 9], \n",
    "             [4, 7, 1]])\n",
    "\n",
    "r = np.sum(Z, axis=1)\n",
    "print (np.nonzero(r > 10))"
   ]
  },
  {
   "cell_type": "code",
   "execution_count": 14,
   "metadata": {},
   "outputs": [
    {
     "data": {
      "text/plain": [
       "array([[1., 0., 0.],\n",
       "       [0., 1., 0.],\n",
       "       [0., 0., 1.],\n",
       "       [1., 0., 0.],\n",
       "       [0., 1., 0.],\n",
       "       [0., 0., 1.]])"
      ]
     },
     "execution_count": 14,
     "metadata": {},
     "output_type": "execute_result"
    }
   ],
   "source": [
    "A = np.eye(3)\n",
    "B = np.eye(3)\n",
    "\n",
    "np.vstack((A, B))"
   ]
  },
  {
   "cell_type": "code",
   "execution_count": null,
   "metadata": {},
   "outputs": [],
   "source": []
  }
 ],
 "metadata": {
  "kernelspec": {
   "display_name": "Python 3",
   "language": "python",
   "name": "python3"
  },
  "language_info": {
   "codemirror_mode": {
    "name": "ipython",
    "version": 3
   },
   "file_extension": ".py",
   "mimetype": "text/x-python",
   "name": "python",
   "nbconvert_exporter": "python",
   "pygments_lexer": "ipython3",
   "version": "3.6.4"
  }
 },
 "nbformat": 4,
 "nbformat_minor": 2
}
