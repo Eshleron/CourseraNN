{
 "cells": [
  {
   "cell_type": "code",
   "execution_count": 1,
   "metadata": {},
   "outputs": [],
   "source": [
    "import pandas\n",
    "import numpy as np\n",
    "\n",
    "data = pandas.read_csv('titanic.csv', index_col='PassengerId')"
   ]
  },
  {
   "cell_type": "code",
   "execution_count": 2,
   "metadata": {},
   "outputs": [],
   "source": [
    "index_col='PassengerId'"
   ]
  },
  {
   "cell_type": "code",
   "execution_count": 3,
   "metadata": {},
   "outputs": [
    {
     "data": {
      "text/html": [
       "<div>\n",
       "<style scoped>\n",
       "    .dataframe tbody tr th:only-of-type {\n",
       "        vertical-align: middle;\n",
       "    }\n",
       "\n",
       "    .dataframe tbody tr th {\n",
       "        vertical-align: top;\n",
       "    }\n",
       "\n",
       "    .dataframe thead th {\n",
       "        text-align: right;\n",
       "    }\n",
       "</style>\n",
       "<table border=\"1\" class=\"dataframe\">\n",
       "  <thead>\n",
       "    <tr style=\"text-align: right;\">\n",
       "      <th></th>\n",
       "      <th>Survived</th>\n",
       "      <th>Pclass</th>\n",
       "      <th>Name</th>\n",
       "      <th>Sex</th>\n",
       "      <th>Age</th>\n",
       "      <th>SibSp</th>\n",
       "      <th>Parch</th>\n",
       "      <th>Ticket</th>\n",
       "      <th>Fare</th>\n",
       "      <th>Cabin</th>\n",
       "      <th>Embarked</th>\n",
       "    </tr>\n",
       "    <tr>\n",
       "      <th>PassengerId</th>\n",
       "      <th></th>\n",
       "      <th></th>\n",
       "      <th></th>\n",
       "      <th></th>\n",
       "      <th></th>\n",
       "      <th></th>\n",
       "      <th></th>\n",
       "      <th></th>\n",
       "      <th></th>\n",
       "      <th></th>\n",
       "      <th></th>\n",
       "    </tr>\n",
       "  </thead>\n",
       "  <tbody>\n",
       "    <tr>\n",
       "      <th>1</th>\n",
       "      <td>0</td>\n",
       "      <td>3</td>\n",
       "      <td>Braund, Mr. Owen Harris</td>\n",
       "      <td>male</td>\n",
       "      <td>22.0</td>\n",
       "      <td>1</td>\n",
       "      <td>0</td>\n",
       "      <td>A/5 21171</td>\n",
       "      <td>7.2500</td>\n",
       "      <td>NaN</td>\n",
       "      <td>S</td>\n",
       "    </tr>\n",
       "    <tr>\n",
       "      <th>2</th>\n",
       "      <td>1</td>\n",
       "      <td>1</td>\n",
       "      <td>Cumings, Mrs. John Bradley (Florence Briggs Th...</td>\n",
       "      <td>female</td>\n",
       "      <td>38.0</td>\n",
       "      <td>1</td>\n",
       "      <td>0</td>\n",
       "      <td>PC 17599</td>\n",
       "      <td>71.2833</td>\n",
       "      <td>C85</td>\n",
       "      <td>C</td>\n",
       "    </tr>\n",
       "    <tr>\n",
       "      <th>3</th>\n",
       "      <td>1</td>\n",
       "      <td>3</td>\n",
       "      <td>Heikkinen, Miss. Laina</td>\n",
       "      <td>female</td>\n",
       "      <td>26.0</td>\n",
       "      <td>0</td>\n",
       "      <td>0</td>\n",
       "      <td>STON/O2. 3101282</td>\n",
       "      <td>7.9250</td>\n",
       "      <td>NaN</td>\n",
       "      <td>S</td>\n",
       "    </tr>\n",
       "    <tr>\n",
       "      <th>4</th>\n",
       "      <td>1</td>\n",
       "      <td>1</td>\n",
       "      <td>Futrelle, Mrs. Jacques Heath (Lily May Peel)</td>\n",
       "      <td>female</td>\n",
       "      <td>35.0</td>\n",
       "      <td>1</td>\n",
       "      <td>0</td>\n",
       "      <td>113803</td>\n",
       "      <td>53.1000</td>\n",
       "      <td>C123</td>\n",
       "      <td>S</td>\n",
       "    </tr>\n",
       "    <tr>\n",
       "      <th>5</th>\n",
       "      <td>0</td>\n",
       "      <td>3</td>\n",
       "      <td>Allen, Mr. William Henry</td>\n",
       "      <td>male</td>\n",
       "      <td>35.0</td>\n",
       "      <td>0</td>\n",
       "      <td>0</td>\n",
       "      <td>373450</td>\n",
       "      <td>8.0500</td>\n",
       "      <td>NaN</td>\n",
       "      <td>S</td>\n",
       "    </tr>\n",
       "  </tbody>\n",
       "</table>\n",
       "</div>"
      ],
      "text/plain": [
       "             Survived  Pclass  \\\n",
       "PassengerId                     \n",
       "1                   0       3   \n",
       "2                   1       1   \n",
       "3                   1       3   \n",
       "4                   1       1   \n",
       "5                   0       3   \n",
       "\n",
       "                                                          Name     Sex   Age  \\\n",
       "PassengerId                                                                    \n",
       "1                                      Braund, Mr. Owen Harris    male  22.0   \n",
       "2            Cumings, Mrs. John Bradley (Florence Briggs Th...  female  38.0   \n",
       "3                                       Heikkinen, Miss. Laina  female  26.0   \n",
       "4                 Futrelle, Mrs. Jacques Heath (Lily May Peel)  female  35.0   \n",
       "5                                     Allen, Mr. William Henry    male  35.0   \n",
       "\n",
       "             SibSp  Parch            Ticket     Fare Cabin Embarked  \n",
       "PassengerId                                                          \n",
       "1                1      0         A/5 21171   7.2500   NaN        S  \n",
       "2                1      0          PC 17599  71.2833   C85        C  \n",
       "3                0      0  STON/O2. 3101282   7.9250   NaN        S  \n",
       "4                1      0            113803  53.1000  C123        S  \n",
       "5                0      0            373450   8.0500   NaN        S  "
      ]
     },
     "execution_count": 3,
     "metadata": {},
     "output_type": "execute_result"
    }
   ],
   "source": [
    "data.head()"
   ]
  },
  {
   "cell_type": "code",
   "execution_count": 4,
   "metadata": {
    "scrolled": true
   },
   "outputs": [],
   "source": [
    "#data[:10]"
   ]
  },
  {
   "cell_type": "code",
   "execution_count": 5,
   "metadata": {},
   "outputs": [],
   "source": [
    "#data['Pclass']"
   ]
  },
  {
   "cell_type": "code",
   "execution_count": 6,
   "metadata": {},
   "outputs": [
    {
     "name": "stdout",
     "output_type": "stream",
     "text": [
      "577 314\n"
     ]
    }
   ],
   "source": [
    "male, female = data['Sex'].value_counts()\n",
    "print(male, female)"
   ]
  },
  {
   "cell_type": "code",
   "execution_count": 103,
   "metadata": {},
   "outputs": [
    {
     "name": "stdout",
     "output_type": "stream",
     "text": [
      "0    549\n",
      "1    342\n",
      "Name: Survived, dtype: int64\n",
      "38.0\n"
     ]
    }
   ],
   "source": [
    "passed, survived = data['Survived'].value_counts()\n",
    "pct_survived = survived / (survived + passed)\n",
    "pct_survived = round(pct_survived, 2) * 100\n",
    "print(data['Survived'].value_counts())\n",
    "print(pct_survived)"
   ]
  },
  {
   "cell_type": "code",
   "execution_count": 108,
   "metadata": {},
   "outputs": [
    {
     "name": "stdout",
     "output_type": "stream",
     "text": [
      "0.2424\n"
     ]
    }
   ],
   "source": [
    "third, first, second = data['Pclass'].value_counts()\n",
    "pct_first = first / (first + second + third)\n",
    "print(round(pct_first, 4))"
   ]
  },
  {
   "cell_type": "code",
   "execution_count": 9,
   "metadata": {},
   "outputs": [
    {
     "name": "stdout",
     "output_type": "stream",
     "text": [
      "29.7 28.0\n"
     ]
    }
   ],
   "source": [
    "age = data['Age']\n",
    "mean = np.mean(age)\n",
    "median = np.median(age[age > 0])\n",
    "print(round(mean, 2), median)"
   ]
  },
  {
   "cell_type": "code",
   "execution_count": 90,
   "metadata": {},
   "outputs": [
    {
     "name": "stdout",
     "output_type": "stream",
     "text": [
      "0.41 0.0\n",
      "(0.4148376986201561, 2.2418236681398336e-38)\n"
     ]
    }
   ],
   "source": [
    "import scipy.stats\n",
    "\n",
    "both = data[data.columns[5:7]]\n",
    "x = data[data.columns[5]]\n",
    "y = data[data.columns[6]]\n",
    "\n",
    "corr = scipy.stats.pearsonr(x, y)\n",
    "corr_1, corr_2 = corr\n",
    "corr_1 = round(corr_1, 2)\n",
    "corr_2 = round(corr_2, 2)\n",
    "print(corr_1, corr_2)\n",
    "print(corr)"
   ]
  },
  {
   "cell_type": "code",
   "execution_count": 118,
   "metadata": {},
   "outputs": [
    {
     "name": "stdout",
     "output_type": "stream",
     "text": [
      "Wendla\n",
      "Counter({'Anna': 11, 'Margaret': 9, 'Elizabeth': 9, 'Mary': 7, 'Maria': 5, 'Helen': 5, 'Marie': 4, 'Ada': 4, 'Alice': 4, 'Florence': 3, 'Elisabeth': 3, 'Ellen': 3, 'Augusta': 3, 'Lillian': 3, 'Edith': 3, 'Katherine': 3, 'Hanora': 3, 'Emily': 3, 'Annie': 3, 'Catherine': 3, 'Jane': 3, 'Lily': 2, 'Adele': 2, 'Johanna': 2, 'Dorothy': 2, 'Constance': 2, 'Helene': 2, 'Clara': 2, 'Amelia': 2, 'Marion': 2, 'Jessie': 2, 'Lucile': 2, 'Madeleine': 2, 'Ida': 2, 'Charlotte': 2, 'Martha': 2, 'Amy': 2, 'Marguerite': 1, 'Hulda': 1, 'Emelia': 1, 'Masselmani,': 1, 'Torborg': 1, 'Selma': 1, 'Simonne': 1, 'Josefine': 1, 'Myna': 1, 'Erna': 1, 'Brigdet': 1, 'Mabel': 1, 'Ellis': 1, 'Grace': 1, 'Mathilde': 1, 'Elin': 1, 'Robina': 1, 'Eleanor': 1, 'Ann': 1, 'Luise': 1, 'Carla': 1, 'Henriette': 1, 'Telma': 1, 'Clear': 1, 'Irene': 1, 'Marjorie': 1, 'Agda': 1, 'Elna': 1, 'Helena': 1, 'Hanne': 1, 'Thorne,': 1, 'Lutie': 1, 'Kornelia': 1, 'Rosa': 1, 'Nora': 1, 'Laura': 1, 'Helmina': 1, 'Miriam': 1, 'Margaretta': 1, 'Hilda': 1, 'Sylvia': 1, 'Jean': 1, 'Elsie': 1, 'Mantoura': 1, 'Stina': 1, 'Leila': 1, 'Aurora': 1, 'Agnes': 1, 'Mari': 1, 'Daisy': 1, 'Lulu': 1, 'Lyyli': 1, 'Kate': 1, 'Doolina': 1, 'Esther': 1, 'Hildur': 1, 'Bessie': 1, 'Bridget': 1, 'Kristina': 1, 'Phyllis': 1, 'Eva': 1, 'Hedwig': 1, 'Harriet': 1, 'Ingeborg': 1, 'Sigrid': 1, 'Ethel': 1, 'Tillie': 1, '(Marion': 1, 'Alma': 1, 'Julie': 1, 'Marian': 1, 'Juliette': 1, 'Alfrida': 1, 'Cordelia': 1, 'Gretchen': 1, 'Margit': 1, 'Juliet': 1, 'Georgette': 1, 'Kelly,': 1, 'Caroline': 1, 'Edwina': 1, 'Pieta': 1, 'Susan': 1, 'Eliza': 1, 'Virginia': 1, 'Vera': 1, 'Stella': 1, 'Osman,': 1, 'Rosalie': 1, 'Bertha': 1, 'Ebba': 1, 'Wendla': 1, 'Selini': 1, 'Sara': 1, 'Edwiga': 1, 'Lilian': 1, 'Leah': 1, 'Latifa': 1, 'Sallie': 1, 'Hannah': 1, 'Imanita': 1, 'Gerda': 1})\n"
     ]
    }
   ],
   "source": [
    "raw_clms = data[data.columns[2:4]]\n",
    "female_clms = raw_clms[raw_clms['Sex'] == 'female']\n",
    "female_names = female_clms['Name']\n",
    "names = []\n",
    "\n",
    "for row in female_names:\n",
    "    enumerate(row)\n",
    "    miss = row.find('Miss. ')\n",
    "    mrs = row.find('Mrs. ')\n",
    "    if miss != -1:\n",
    "        name = ''\n",
    "        letter_index = miss + 6\n",
    "        # +6 from miss._\n",
    "        #         123456\n",
    "        temp_row = row[letter_index:]\n",
    "        \n",
    "        for letter in temp_row:\n",
    "            if letter != ' ':\n",
    "                name += letter\n",
    "                \n",
    "            else:\n",
    "                names.append(name)\n",
    "                break\n",
    "\n",
    "    elif mrs != -1:\n",
    "        brackets = row.find('(')\n",
    "        brackets += 1\n",
    "        name = ''\n",
    "        temp_row = row[brackets:]\n",
    "        \n",
    "        for letter in temp_row:\n",
    "            if letter != ' ':\n",
    "                name += letter\n",
    "            else:\n",
    "                names.append(name)\n",
    "                break\n",
    "\n",
    "#print(names)\n",
    "from collections import Counter\n",
    "print(Counter(names))"
   ]
  },
  {
   "cell_type": "code",
   "execution_count": null,
   "metadata": {},
   "outputs": [],
   "source": []
  }
 ],
 "metadata": {
  "kernelspec": {
   "display_name": "Python 3",
   "language": "python",
   "name": "python3"
  },
  "language_info": {
   "codemirror_mode": {
    "name": "ipython",
    "version": 3
   },
   "file_extension": ".py",
   "mimetype": "text/x-python",
   "name": "python",
   "nbconvert_exporter": "python",
   "pygments_lexer": "ipython3",
   "version": "3.6.4"
  }
 },
 "nbformat": 4,
 "nbformat_minor": 2
}
