{
 "cells": [
  {
   "cell_type": "code",
   "execution_count": 137,
   "metadata": {},
   "outputs": [],
   "source": [
    "%matplotlib inline\n",
    "import numpy as np\n",
    "from sklearn import datasets\n",
    "from sklearn.svm import SVC\n",
    "from sklearn.model_selection import KFold, GridSearchCV\n",
    "from sklearn.feature_extraction.text import TfidfVectorizer\n",
    "import pandas as pd\n",
    "import matplotlib.pyplot as plt"
   ]
  },
  {
   "cell_type": "code",
   "execution_count": 138,
   "metadata": {},
   "outputs": [],
   "source": [
    "dataset_train = datasets.fetch_20newsgroups(subset='train', categories=['alt.atheism', 'sci.space'])\n",
    "dataset_test = datasets.fetch_20newsgroups(subset='test', categories=['alt.atheism', 'sci.space'])\n",
    "dataset_all = datasets.fetch_20newsgroups(subset='all', categories=['alt.atheism', 'sci.space'])"
   ]
  },
  {
   "cell_type": "code",
   "execution_count": 139,
   "metadata": {},
   "outputs": [],
   "source": [
    "X_train = dataset_train.data\n",
    "y_train = dataset_train.target\n",
    "X_test = dataset_test.data\n",
    "y_test = dataset_test.target"
   ]
  },
  {
   "cell_type": "code",
   "execution_count": 140,
   "metadata": {},
   "outputs": [],
   "source": [
    "vectorizer = TfidfVectorizer()\n",
    "X_train_trans = vectorizer.fit_transform(X_train)\n",
    "X_test_trans = vectorizer.transform(X_test)\n",
    "\n",
    "feature_mapping = vectorizer.get_feature_names()"
   ]
  },
  {
   "cell_type": "code",
   "execution_count": 141,
   "metadata": {},
   "outputs": [
    {
     "data": {
      "text/plain": [
       "GridSearchCV(cv=KFold(n_splits=5, random_state=241, shuffle=True),\n",
       "       error_score='raise',\n",
       "       estimator=SVC(C=1.0, cache_size=200, class_weight=None, coef0=0.0,\n",
       "  decision_function_shape='ovr', degree=3, gamma='auto', kernel='linear',\n",
       "  max_iter=-1, probability=False, random_state=241, shrinking=True,\n",
       "  tol=0.001, verbose=False),\n",
       "       fit_params=None, iid=True, n_jobs=-1,\n",
       "       param_grid={'C': array([1.e-05, 1.e-04, 1.e-03, 1.e-02, 1.e-01, 1.e+00, 1.e+01, 1.e+02,\n",
       "       1.e+03, 1.e+04, 1.e+05])},\n",
       "       pre_dispatch='2*n_jobs', refit=True, return_train_score='warn',\n",
       "       scoring='accuracy', verbose=0)"
      ]
     },
     "execution_count": 141,
     "metadata": {},
     "output_type": "execute_result"
    }
   ],
   "source": [
    "grid = {'C': np.power(10.0, np.arange(-5, 6))}\n",
    "cv = KFold(n_splits=5, shuffle=True, random_state=241)\n",
    "clf = SVC(kernel='linear', random_state=241)\n",
    "\n",
    "gs = GridSearchCV(clf, grid, scoring='accuracy', cv=cv, n_jobs=-1)\n",
    "gs.fit(X_train_trans, y_train)"
   ]
  },
  {
   "cell_type": "code",
   "execution_count": 142,
   "metadata": {},
   "outputs": [
    {
     "name": "stdout",
     "output_type": "stream",
     "text": [
      "0.5526561043802423\n",
      "{'C': 1e-05}\n",
      "0.5526561043802423\n",
      "{'C': 0.0001}\n",
      "0.5526561043802423\n",
      "{'C': 0.001}\n",
      "0.5526561043802423\n",
      "{'C': 0.01}\n",
      "0.9179869524697111\n",
      "{'C': 0.1}\n",
      "0.9925442684063374\n",
      "{'C': 1.0}\n",
      "0.9925442684063374\n",
      "{'C': 10.0}\n",
      "0.9925442684063374\n",
      "{'C': 100.0}\n",
      "0.9925442684063374\n",
      "{'C': 1000.0}\n",
      "0.9925442684063374\n",
      "{'C': 10000.0}\n",
      "0.9925442684063374\n",
      "{'C': 100000.0}\n"
     ]
    },
    {
     "name": "stderr",
     "output_type": "stream",
     "text": [
      "C:\\Anaconda3\\lib\\site-packages\\sklearn\\model_selection\\_search.py:761: DeprecationWarning: The grid_scores_ attribute was deprecated in version 0.18 in favor of the more elaborate cv_results_ attribute. The grid_scores_ attribute will not be available from 0.20\n",
      "  DeprecationWarning)\n"
     ]
    }
   ],
   "source": [
    "for a in gs.grid_scores_:\n",
    "    print(a.mean_validation_score)\n",
    "    print(a.parameters)"
   ]
  },
  {
   "cell_type": "code",
   "execution_count": 143,
   "metadata": {},
   "outputs": [],
   "source": [
    "clf_train = SVC(C=1, kernel='linear', random_state=241)\n",
    "X_all = dataset_all.data\n",
    "X_all_trans = vectorizer.transform(X_all)\n",
    "y_all = dataset_all.target\n",
    "svc = clf_train.fit(X_all_trans, y_all)"
   ]
  },
  {
   "cell_type": "code",
   "execution_count": 144,
   "metadata": {},
   "outputs": [
    {
     "data": {
      "text/plain": [
       "['atheism',\n",
       " 'atheists',\n",
       " 'bible',\n",
       " 'god',\n",
       " 'keith',\n",
       " 'moon',\n",
       " 'religion',\n",
       " 'sci',\n",
       " 'sky',\n",
       " 'space']"
      ]
     },
     "execution_count": 144,
     "metadata": {},
     "output_type": "execute_result"
    }
   ],
   "source": [
    "word_indexes = np.argsort(np.abs(svc.coef_.toarray()[0]))[-10:]\n",
    "words = []\n",
    "for index in word_indexes:\n",
    "    words.append(feature_mapping[index])\n",
    "words = sorted(words)\n",
    "words"
   ]
  },
  {
   "cell_type": "code",
   "execution_count": 215,
   "metadata": {
    "scrolled": true
   },
   "outputs": [
    {
     "name": "stdout",
     "output_type": "stream",
     "text": [
      "shape is (1, 22464) \n",
      "\n"
     ]
    }
   ],
   "source": [
    "coeffs = svc.coef_.toarray()\n",
    "print('shape is', coeffs.shape, '\\n')\n",
    "\n",
    "first = [index for index, x in enumerate(coeffs[0])]\n",
    "first\n",
    "#first, second = [index, x for index, x in enumerate(coeffs[0])]\n",
    "#second = [x for index, x in enumerate(coeffs[0])]\n",
    "\n",
    "\n",
    "for index, x in enumerate(coeffs[0]):\n",
    "    first, second.append(index)\n",
    "\n",
    "    #second.append(x)\n",
    "    #if index <= 10:\n",
    "        #first_ten_x.append(index)\n",
    "        #first_ten_y.append(x)"
   ]
  },
  {
   "cell_type": "code",
   "execution_count": 205,
   "metadata": {},
   "outputs": [
    {
     "data": {
      "text/plain": [
       "Text(0,0.5,'Word Coefficient')"
      ]
     },
     "execution_count": 205,
     "metadata": {},
     "output_type": "execute_result"
    },
    {
     "data": {
      "image/png": "[encoded data removed]",
      "text/plain": [
       "<matplotlib.figure.Figure at 0xfd88643630>"
      ]
     },
     "metadata": {},
     "output_type": "display_data"
    }
   ],
   "source": [
    "plot_1 = plt.plot(first, second, 'bo')\n",
    "plot_1 = plt.plot(first_ten_x, first_ten_y, 'ro')\n",
    "plt.xlabel('Word Number')\n",
    "plt.ylabel('Word Coefficient')"
   ]
  },
  {
   "cell_type": "markdown",
   "metadata": {},
   "source": [
    "#import scipy.sparse\n",
    "matrix_dict = {}\n",
    "cx = scipy.sparse.coo_matrix(svc.coef_)    \n",
    "for i, j, v in zip(cx.row, cx.col, cx.data):\n",
    "    matrix_dict[j] = v\n",
    "    \n",
    "import operator\n",
    "sorted_x = sorted(matrix_dict.items(), key=operator.itemgetter(1), reverse=True)\n",
    "#sorted_x"
   ]
  },
  {
   "cell_type": "markdown",
   "metadata": {},
   "source": [
    "matrix_dict = {}\n",
    "cx = scipy.sparse.coo_matrix(svc.coef_)\n",
    "\n",
    "#print(cx)"
   ]
  },
  {
   "cell_type": "markdown",
   "metadata": {},
   "source": [
    "first = []\n",
    "second = []\n",
    "for i in range(len(sorted_x)):\n",
    "    first.append(sorted_x[i][0])\n",
    "    second.append(sorted_x[i][1])\n",
    "first_ten_x = []\n",
    "first_ten_y = []\n",
    "for i in range(10):\n",
    "    first_ten_x.append(sorted_x[i][0])\n",
    "    first_ten_y.append(sorted_x[i][1])"
   ]
  }
 ],
 "metadata": {
  "kernelspec": {
   "display_name": "Python 3",
   "language": "python",
   "name": "python3"
  },
  "language_info": {
   "codemirror_mode": {
    "name": "ipython",
    "version": 3
   },
   "file_extension": ".py",
   "mimetype": "text/x-python",
   "name": "python",
   "nbconvert_exporter": "python",
   "pygments_lexer": "ipython3",
   "version": "3.6.4"
  }
 },
 "nbformat": 4,
 "nbformat_minor": 2
}
